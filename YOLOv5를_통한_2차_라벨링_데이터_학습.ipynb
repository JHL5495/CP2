{
  "nbformat": 4,
  "nbformat_minor": 0,
  "metadata": {
    "colab": {
      "provenance": []
    },
    "kernelspec": {
      "name": "python3",
      "display_name": "Python 3"
    },
    "language_info": {
      "name": "python"
    },
    "accelerator": "GPU"
  },
  "cells": [
    {
      "cell_type": "code",
      "execution_count": 1,
      "metadata": {
        "colab": {
          "base_uri": "https://localhost:8080/"
        },
        "id": "Q4Wu_5e7qn_t",
        "outputId": "bc437aea-0570-46a0-b053-4b298251ef09"
      },
      "outputs": [
        {
          "output_type": "stream",
          "name": "stdout",
          "text": [
            "Mounted at /content/drive\n"
          ]
        }
      ],
      "source": [
        "import cv2\n",
        "import numpy as np\n",
        "import time # -- 프레임 계산을 위해 사용\n",
        "from google.colab import drive\n",
        "drive.mount('/content/drive')"
      ]
    },
    {
      "cell_type": "code",
      "source": [
        "%cd drive/MyDrive/YOLOv4/darknet"
      ],
      "metadata": {
        "colab": {
          "base_uri": "https://localhost:8080/"
        },
        "id": "dhtSnS_AqxsJ",
        "outputId": "972181bf-eb37-4cbb-d0c2-e40e6016361a"
      },
      "execution_count": 2,
      "outputs": [
        {
          "output_type": "stream",
          "name": "stdout",
          "text": [
            "/content/drive/MyDrive/YOLOv4/darknet\n"
          ]
        }
      ]
    },
    {
      "cell_type": "code",
      "source": [
        "!git clone https://github.com/ultralytics/yolov5"
      ],
      "metadata": {
        "colab": {
          "base_uri": "https://localhost:8080/"
        },
        "id": "f5AUwTNArJCe",
        "outputId": "a8643215-bc42-42a1-a5dd-207aa311e4fc"
      },
      "execution_count": 3,
      "outputs": [
        {
          "output_type": "stream",
          "name": "stdout",
          "text": [
            "Cloning into 'yolov5'...\n",
            "remote: Enumerating objects: 13322, done.\u001b[K\n",
            "remote: Counting objects: 100% (124/124), done.\u001b[K\n",
            "remote: Compressing objects: 100% (52/52), done.\u001b[K\n",
            "remote: Total 13322 (delta 88), reused 105 (delta 72), pack-reused 13198\u001b[K\n",
            "Receiving objects: 100% (13322/13322), 13.22 MiB | 8.35 MiB/s, done.\n",
            "Resolving deltas: 100% (9147/9147), done.\n"
          ]
        }
      ]
    },
    {
      "cell_type": "code",
      "source": [
        "%cd yolov5"
      ],
      "metadata": {
        "colab": {
          "base_uri": "https://localhost:8080/"
        },
        "id": "U33nOvwWuat0",
        "outputId": "0229600f-a66f-414e-a3fc-9d30e681c187"
      },
      "execution_count": 6,
      "outputs": [
        {
          "output_type": "stream",
          "name": "stdout",
          "text": [
            "/content/drive/MyDrive/YOLOv4/darknet/yolov5\n"
          ]
        }
      ]
    },
    {
      "cell_type": "code",
      "source": [
        "!python train.py --data \"/content/drive/MyDrive/YOLOv4/darknet/yolov5/data/custom_dataset.yaml\" --epochs 100 #epoch 100회"
      ],
      "metadata": {
        "id": "DSkpEkT3rJ52"
      },
      "execution_count": null,
      "outputs": []
    },
    {
      "cell_type": "code",
      "source": [
        "!python val.py --data \"/content/drive/MyDrive/YOLOv4/darknet/yolov5/data/custom_dataset.yaml\" --weights \"/content/drive/MyDrive/YOLOv4/darknet/yolov5/runs/train/exp4/weights/best.pt\""
      ],
      "metadata": {
        "colab": {
          "base_uri": "https://localhost:8080/"
        },
        "id": "rqHOrmqCtfeL",
        "outputId": "4c80469d-633b-481a-ab9f-3409ee0e1e82"
      },
      "execution_count": 15,
      "outputs": [
        {
          "output_type": "stream",
          "name": "stdout",
          "text": [
            "\u001b[34m\u001b[1mval: \u001b[0mdata=/content/drive/MyDrive/YOLOv4/darknet/yolov5/data/custom_dataset.yaml, weights=['/content/drive/MyDrive/YOLOv4/darknet/yolov5/runs/train/exp4/weights/best.pt'], batch_size=32, imgsz=640, conf_thres=0.001, iou_thres=0.6, max_det=300, task=val, device=, workers=8, single_cls=False, augment=False, verbose=False, save_txt=False, save_hybrid=False, save_conf=False, save_json=False, project=runs/val, name=exp, exist_ok=False, half=False, dnn=False\n",
            "YOLOv5 🚀 v6.2-185-ge4398cf Python-3.7.14 torch-1.12.1+cu113 CUDA:0 (Tesla T4, 15110MiB)\n",
            "\n",
            "Fusing layers... \n",
            "Model summary: 157 layers, 7020913 parameters, 0 gradients, 15.8 GFLOPs\n",
            "\u001b[34m\u001b[1mval: \u001b[0mScanning '/content/drive/MyDrive/YOLOv4/darknet/data/train_motorcycle_helmet/valid_data.cache' images and labels... 400 found, 0 missing, 2 empty, 0 corrupt: 100% 400/400 [00:00<?, ?it/s]\n",
            "                 Class     Images  Instances          P          R      mAP50   mAP50-95: 100% 13/13 [00:06<00:00,  1.88it/s]\n",
            "                   all        400        573      0.834      0.735      0.785      0.554\n",
            "                helmet        400        334      0.808       0.91      0.911      0.607\n",
            "                  head        400        204      0.908      0.963      0.975      0.708\n",
            "                   cap        400         25      0.622       0.48      0.542      0.367\n",
            "                  hood        400         10          1      0.585      0.711      0.533\n",
            "Speed: 0.8ms pre-process, 5.1ms inference, 1.6ms NMS per image at shape (32, 3, 640, 640)\n",
            "Results saved to \u001b[1mruns/val/exp\u001b[0m\n"
          ]
        }
      ]
    },
    {
      "cell_type": "code",
      "source": [
        "!python detect.py --weights \"/content/drive/MyDrive/YOLOv4/darknet/yolov5/runs/train/exp4/weights/best.pt\" --source \"/content/drive/MyDrive/YOLOv4/darknet/data/train_motorcycle_helmet/image_motorcycle_helmet/leejh\""
      ],
      "metadata": {
        "colab": {
          "base_uri": "https://localhost:8080/"
        },
        "id": "Mox61jBSSmtK",
        "outputId": "b7f90e58-a475-4fd9-b4ba-63735090625b"
      },
      "execution_count": 17,
      "outputs": [
        {
          "output_type": "stream",
          "name": "stdout",
          "text": [
            "\u001b[34m\u001b[1mdetect: \u001b[0mweights=['/content/drive/MyDrive/YOLOv4/darknet/yolov5/runs/train/exp4/weights/best.pt'], source=/content/drive/MyDrive/YOLOv4/darknet/data/train_motorcycle_helmet/image_motorcycle_helmet/leejh, data=data/coco128.yaml, imgsz=[640, 640], conf_thres=0.25, iou_thres=0.45, max_det=1000, device=, view_img=False, save_txt=False, save_conf=False, save_crop=False, nosave=False, classes=None, agnostic_nms=False, augment=False, visualize=False, update=False, project=runs/detect, name=exp, exist_ok=False, line_thickness=3, hide_labels=False, hide_conf=False, half=False, dnn=False, vid_stride=1\n",
            "YOLOv5 🚀 v6.2-185-ge4398cf Python-3.7.14 torch-1.12.1+cu113 CUDA:0 (Tesla T4, 15110MiB)\n",
            "\n",
            "Fusing layers... \n",
            "Model summary: 157 layers, 7020913 parameters, 0 gradients, 15.8 GFLOPs\n",
            "image 1/174 /content/drive/MyDrive/YOLOv4/darknet/data/train_motorcycle_helmet/image_motorcycle_helmet/leejh/103_0.jpg: 640x640 1 helmet, 12.7ms\n",
            "image 2/174 /content/drive/MyDrive/YOLOv4/darknet/data/train_motorcycle_helmet/image_motorcycle_helmet/leejh/113_0.jpg: 640x544 1 helmet, 12.5ms\n",
            "image 3/174 /content/drive/MyDrive/YOLOv4/darknet/data/train_motorcycle_helmet/image_motorcycle_helmet/leejh/113_1.jpg: 640x512 2 helmets, 15.7ms\n",
            "image 4/174 /content/drive/MyDrive/YOLOv4/darknet/data/train_motorcycle_helmet/image_motorcycle_helmet/leejh/113_2.jpg: 640x352 2 helmets, 12.3ms\n",
            "image 5/174 /content/drive/MyDrive/YOLOv4/darknet/data/train_motorcycle_helmet/image_motorcycle_helmet/leejh/114_0.jpg: 640x448 1 helmet, 11.0ms\n",
            "image 6/174 /content/drive/MyDrive/YOLOv4/darknet/data/train_motorcycle_helmet/image_motorcycle_helmet/leejh/114_1.jpg: 640x384 1 helmet, 23.9ms\n",
            "image 7/174 /content/drive/MyDrive/YOLOv4/darknet/data/train_motorcycle_helmet/image_motorcycle_helmet/leejh/116_1.jpg: 640x448 1 helmet, 12.7ms\n",
            "image 8/174 /content/drive/MyDrive/YOLOv4/darknet/data/train_motorcycle_helmet/image_motorcycle_helmet/leejh/117_0.jpg: 640x416 1 helmet, 11.6ms\n",
            "image 9/174 /content/drive/MyDrive/YOLOv4/darknet/data/train_motorcycle_helmet/image_motorcycle_helmet/leejh/117_1.jpg: 640x416 1 helmet, 9.3ms\n",
            "image 10/174 /content/drive/MyDrive/YOLOv4/darknet/data/train_motorcycle_helmet/image_motorcycle_helmet/leejh/118_0.jpg: 640x448 1 helmet, 9.7ms\n",
            "image 11/174 /content/drive/MyDrive/YOLOv4/darknet/data/train_motorcycle_helmet/image_motorcycle_helmet/leejh/119_0.jpg: 640x480 1 helmet, 16.3ms\n",
            "image 12/174 /content/drive/MyDrive/YOLOv4/darknet/data/train_motorcycle_helmet/image_motorcycle_helmet/leejh/120_0.jpg: 640x448 1 helmet, 9.6ms\n",
            "image 13/174 /content/drive/MyDrive/YOLOv4/darknet/data/train_motorcycle_helmet/image_motorcycle_helmet/leejh/121_0.jpg: 640x448 1 helmet, 13.7ms\n",
            "image 14/174 /content/drive/MyDrive/YOLOv4/darknet/data/train_motorcycle_helmet/image_motorcycle_helmet/leejh/121_1.jpg: 640x416 1 helmet, 9.4ms\n",
            "image 15/174 /content/drive/MyDrive/YOLOv4/darknet/data/train_motorcycle_helmet/image_motorcycle_helmet/leejh/125_0.jpg: 640x608 1 helmet, 12.8ms\n",
            "image 16/174 /content/drive/MyDrive/YOLOv4/darknet/data/train_motorcycle_helmet/image_motorcycle_helmet/leejh/128_0.jpg: 640x384 2 helmets, 9.5ms\n",
            "image 17/174 /content/drive/MyDrive/YOLOv4/darknet/data/train_motorcycle_helmet/image_motorcycle_helmet/leejh/130_1.jpg: 640x384 1 helmet, 9.4ms\n",
            "image 18/174 /content/drive/MyDrive/YOLOv4/darknet/data/train_motorcycle_helmet/image_motorcycle_helmet/leejh/14_0.jpg: 640x416 1 helmet, 15.7ms\n",
            "image 19/174 /content/drive/MyDrive/YOLOv4/darknet/data/train_motorcycle_helmet/image_motorcycle_helmet/leejh/151_0.jpg: 640x480 2 helmets, 1 head, 9.9ms\n",
            "image 20/174 /content/drive/MyDrive/YOLOv4/darknet/data/train_motorcycle_helmet/image_motorcycle_helmet/leejh/159_0.jpg: 640x576 2 helmets, 14.0ms\n",
            "image 21/174 /content/drive/MyDrive/YOLOv4/darknet/data/train_motorcycle_helmet/image_motorcycle_helmet/leejh/160_2.jpg: 640x512 1 helmet, 9.9ms\n",
            "image 22/174 /content/drive/MyDrive/YOLOv4/darknet/data/train_motorcycle_helmet/image_motorcycle_helmet/leejh/162_1.jpg: 640x512 7 helmets, 9.9ms\n",
            "image 23/174 /content/drive/MyDrive/YOLOv4/darknet/data/train_motorcycle_helmet/image_motorcycle_helmet/leejh/164_0.jpg: 640x384 2 helmets, 9.5ms\n",
            "image 24/174 /content/drive/MyDrive/YOLOv4/darknet/data/train_motorcycle_helmet/image_motorcycle_helmet/leejh/165_1.jpg: 640x480 1 helmet, 9.8ms\n",
            "image 25/174 /content/drive/MyDrive/YOLOv4/darknet/data/train_motorcycle_helmet/image_motorcycle_helmet/leejh/175_1.jpg: 576x640 1 helmet, 13.5ms\n",
            "image 26/174 /content/drive/MyDrive/YOLOv4/darknet/data/train_motorcycle_helmet/image_motorcycle_helmet/leejh/176_2.jpg: 576x640 3 helmets, 12.2ms\n",
            "image 27/174 /content/drive/MyDrive/YOLOv4/darknet/data/train_motorcycle_helmet/image_motorcycle_helmet/leejh/179_0.jpg: 640x384 4 helmets, 9.5ms\n",
            "image 28/174 /content/drive/MyDrive/YOLOv4/darknet/data/train_motorcycle_helmet/image_motorcycle_helmet/leejh/180_0.jpg: 608x640 3 helmets, 1 cap, 12.7ms\n",
            "image 29/174 /content/drive/MyDrive/YOLOv4/darknet/data/train_motorcycle_helmet/image_motorcycle_helmet/leejh/184_2.jpg: 640x352 2 helmets, 8.8ms\n",
            "image 30/174 /content/drive/MyDrive/YOLOv4/darknet/data/train_motorcycle_helmet/image_motorcycle_helmet/leejh/196_0.jpg: 640x640 1 helmet, 12.8ms\n",
            "image 31/174 /content/drive/MyDrive/YOLOv4/darknet/data/train_motorcycle_helmet/image_motorcycle_helmet/leejh/203_0.jpg: 640x608 2 helmets, 12.6ms\n",
            "image 32/174 /content/drive/MyDrive/YOLOv4/darknet/data/train_motorcycle_helmet/image_motorcycle_helmet/leejh/206_1.jpg: 640x512 2 helmets, 10.0ms\n",
            "image 33/174 /content/drive/MyDrive/YOLOv4/darknet/data/train_motorcycle_helmet/image_motorcycle_helmet/leejh/218_1.jpg: 640x480 1 helmet, 9.8ms\n",
            "image 34/174 /content/drive/MyDrive/YOLOv4/darknet/data/train_motorcycle_helmet/image_motorcycle_helmet/leejh/229_0.jpg: 640x416 1 helmet, 9.4ms\n",
            "image 35/174 /content/drive/MyDrive/YOLOv4/darknet/data/train_motorcycle_helmet/image_motorcycle_helmet/leejh/229_1.jpg: 640x416 2 helmets, 9.4ms\n",
            "image 36/174 /content/drive/MyDrive/YOLOv4/darknet/data/train_motorcycle_helmet/image_motorcycle_helmet/leejh/22_1.jpg: 640x416 2 helmets, 9.4ms\n",
            "image 37/174 /content/drive/MyDrive/YOLOv4/darknet/data/train_motorcycle_helmet/image_motorcycle_helmet/leejh/22_2.jpg: 640x480 3 helmets, 9.8ms\n",
            "image 38/174 /content/drive/MyDrive/YOLOv4/darknet/data/train_motorcycle_helmet/image_motorcycle_helmet/leejh/230_1.jpg: 640x448 2 helmets, 9.6ms\n",
            "image 39/174 /content/drive/MyDrive/YOLOv4/darknet/data/train_motorcycle_helmet/image_motorcycle_helmet/leejh/231_1.jpg: 640x416 2 helmets, 9.4ms\n",
            "image 40/174 /content/drive/MyDrive/YOLOv4/darknet/data/train_motorcycle_helmet/image_motorcycle_helmet/leejh/238_1.jpg: 640x384 1 helmet, 9.5ms\n",
            "image 41/174 /content/drive/MyDrive/YOLOv4/darknet/data/train_motorcycle_helmet/image_motorcycle_helmet/leejh/245_1.jpg: 640x352 3 helmets, 8.8ms\n",
            "image 42/174 /content/drive/MyDrive/YOLOv4/darknet/data/train_motorcycle_helmet/image_motorcycle_helmet/leejh/246_0.jpg: 640x544 1 helmet, 12.3ms\n",
            "image 43/174 /content/drive/MyDrive/YOLOv4/darknet/data/train_motorcycle_helmet/image_motorcycle_helmet/leejh/24_1.jpg: 640x448 1 helmet, 9.6ms\n",
            "image 44/174 /content/drive/MyDrive/YOLOv4/darknet/data/train_motorcycle_helmet/image_motorcycle_helmet/leejh/259_2.jpg: 640x480 1 helmet, 9.8ms\n",
            "image 45/174 /content/drive/MyDrive/YOLOv4/darknet/data/train_motorcycle_helmet/image_motorcycle_helmet/leejh/291_0.jpg: 640x448 1 helmet, 10.4ms\n",
            "image 46/174 /content/drive/MyDrive/YOLOv4/darknet/data/train_motorcycle_helmet/image_motorcycle_helmet/leejh/300_0.jpg: 640x480 1 helmet, 12.0ms\n",
            "image 47/174 /content/drive/MyDrive/YOLOv4/darknet/data/train_motorcycle_helmet/image_motorcycle_helmet/leejh/302_0.jpg: 640x416 1 helmet, 9.2ms\n",
            "image 48/174 /content/drive/MyDrive/YOLOv4/darknet/data/train_motorcycle_helmet/image_motorcycle_helmet/leejh/303_0.jpg: 640x512 1 helmet, 9.7ms\n",
            "image 49/174 /content/drive/MyDrive/YOLOv4/darknet/data/train_motorcycle_helmet/image_motorcycle_helmet/leejh/34_0.jpg: 640x576 1 helmet, 12.5ms\n",
            "image 50/174 /content/drive/MyDrive/YOLOv4/darknet/data/train_motorcycle_helmet/image_motorcycle_helmet/leejh/34_1.jpg: 640x512 3 helmets, 9.7ms\n",
            "image 51/174 /content/drive/MyDrive/YOLOv4/darknet/data/train_motorcycle_helmet/image_motorcycle_helmet/leejh/35_0.jpg: 480x640 1 helmet, 11.0ms\n",
            "image 52/174 /content/drive/MyDrive/YOLOv4/darknet/data/train_motorcycle_helmet/image_motorcycle_helmet/leejh/362_1.jpg: 640x448 3 helmets, 10.2ms\n",
            "image 53/174 /content/drive/MyDrive/YOLOv4/darknet/data/train_motorcycle_helmet/image_motorcycle_helmet/leejh/386_0.jpg: 640x384 1 helmet, 9.3ms\n",
            "image 54/174 /content/drive/MyDrive/YOLOv4/darknet/data/train_motorcycle_helmet/image_motorcycle_helmet/leejh/397_1.jpg: 640x480 1 helmet, 9.7ms\n",
            "image 55/174 /content/drive/MyDrive/YOLOv4/darknet/data/train_motorcycle_helmet/image_motorcycle_helmet/leejh/417_0.jpg: 640x448 2 helmets, 9.4ms\n",
            "image 56/174 /content/drive/MyDrive/YOLOv4/darknet/data/train_motorcycle_helmet/image_motorcycle_helmet/leejh/436_0.jpg: 640x512 3 helmets, 9.7ms\n",
            "image 57/174 /content/drive/MyDrive/YOLOv4/darknet/data/train_motorcycle_helmet/image_motorcycle_helmet/leejh/444_1.jpg: 608x640 1 helmet, 12.2ms\n",
            "image 58/174 /content/drive/MyDrive/YOLOv4/darknet/data/train_motorcycle_helmet/image_motorcycle_helmet/leejh/447_2.jpg: 608x640 1 helmet, 12.2ms\n",
            "image 59/174 /content/drive/MyDrive/YOLOv4/darknet/data/train_motorcycle_helmet/image_motorcycle_helmet/leejh/44_0.jpg: 640x416 5 helmets, 9.2ms\n",
            "image 60/174 /content/drive/MyDrive/YOLOv4/darknet/data/train_motorcycle_helmet/image_motorcycle_helmet/leejh/44_1.jpg: 640x480 2 helmets, 1 head, 9.2ms\n",
            "image 61/174 /content/drive/MyDrive/YOLOv4/darknet/data/train_motorcycle_helmet/image_motorcycle_helmet/leejh/44_2.jpg: 640x512 4 helmets, 9.3ms\n",
            "image 62/174 /content/drive/MyDrive/YOLOv4/darknet/data/train_motorcycle_helmet/image_motorcycle_helmet/leejh/459_0.jpg: 640x576 1 helmet, 11.7ms\n",
            "image 63/174 /content/drive/MyDrive/YOLOv4/darknet/data/train_motorcycle_helmet/image_motorcycle_helmet/leejh/463_1.jpg: 640x448 2 helmets, 9.0ms\n",
            "image 64/174 /content/drive/MyDrive/YOLOv4/darknet/data/train_motorcycle_helmet/image_motorcycle_helmet/leejh/468_0.jpg: 640x416 1 helmet, 8.9ms\n",
            "image 65/174 /content/drive/MyDrive/YOLOv4/darknet/data/train_motorcycle_helmet/image_motorcycle_helmet/leejh/46_0.jpg: 640x480 1 helmet, 9.2ms\n",
            "image 66/174 /content/drive/MyDrive/YOLOv4/darknet/data/train_motorcycle_helmet/image_motorcycle_helmet/leejh/474_1.jpg: 640x448 1 helmet, 1 cap, 9.4ms\n",
            "image 67/174 /content/drive/MyDrive/YOLOv4/darknet/data/train_motorcycle_helmet/image_motorcycle_helmet/leejh/476_1.jpg: 640x416 2 helmets, 8.8ms\n",
            "image 68/174 /content/drive/MyDrive/YOLOv4/darknet/data/train_motorcycle_helmet/image_motorcycle_helmet/leejh/477_0.jpg: 640x416 2 helmets, 8.8ms\n",
            "image 69/174 /content/drive/MyDrive/YOLOv4/darknet/data/train_motorcycle_helmet/image_motorcycle_helmet/leejh/481_0.jpg: 640x416 1 helmet, 8.8ms\n",
            "image 70/174 /content/drive/MyDrive/YOLOv4/darknet/data/train_motorcycle_helmet/image_motorcycle_helmet/leejh/481_1.jpg: 640x448 1 helmet, 9.1ms\n",
            "image 71/174 /content/drive/MyDrive/YOLOv4/darknet/data/train_motorcycle_helmet/image_motorcycle_helmet/leejh/500_0.jpg: 640x480 3 helmets, 9.2ms\n",
            "image 72/174 /content/drive/MyDrive/YOLOv4/darknet/data/train_motorcycle_helmet/image_motorcycle_helmet/leejh/507_2.jpg: 640x448 4 helmets, 9.0ms\n",
            "image 73/174 /content/drive/MyDrive/YOLOv4/darknet/data/train_motorcycle_helmet/image_motorcycle_helmet/leejh/512_0.jpg: 640x480 1 helmet, 9.2ms\n",
            "image 74/174 /content/drive/MyDrive/YOLOv4/darknet/data/train_motorcycle_helmet/image_motorcycle_helmet/leejh/518_0.jpg: 640x480 2 helmets, 9.2ms\n",
            "image 75/174 /content/drive/MyDrive/YOLOv4/darknet/data/train_motorcycle_helmet/image_motorcycle_helmet/leejh/52_1.jpg: 640x544 3 helmets, 1 head, 11.6ms\n",
            "image 76/174 /content/drive/MyDrive/YOLOv4/darknet/data/train_motorcycle_helmet/image_motorcycle_helmet/leejh/533_1.jpg: 640x480 1 helmet, 9.2ms\n",
            "image 77/174 /content/drive/MyDrive/YOLOv4/darknet/data/train_motorcycle_helmet/image_motorcycle_helmet/leejh/534_0.jpg: 640x544 2 helmets, 15.6ms\n",
            "image 78/174 /content/drive/MyDrive/YOLOv4/darknet/data/train_motorcycle_helmet/image_motorcycle_helmet/leejh/534_2.jpg: 480x640 1 helmet, 1 cap, 9.4ms\n",
            "image 79/174 /content/drive/MyDrive/YOLOv4/darknet/data/train_motorcycle_helmet/image_motorcycle_helmet/leejh/535_0.jpg: 640x576 1 helmet, 11.5ms\n",
            "image 80/174 /content/drive/MyDrive/YOLOv4/darknet/data/train_motorcycle_helmet/image_motorcycle_helmet/leejh/536_0.jpg: 640x480 1 helmet, 9.1ms\n",
            "image 81/174 /content/drive/MyDrive/YOLOv4/darknet/data/train_motorcycle_helmet/image_motorcycle_helmet/leejh/537_0.jpg: 640x576 1 helmet, 11.5ms\n",
            "image 82/174 /content/drive/MyDrive/YOLOv4/darknet/data/train_motorcycle_helmet/image_motorcycle_helmet/leejh/539_0.jpg: 640x448 1 helmet, 8.9ms\n",
            "image 83/174 /content/drive/MyDrive/YOLOv4/darknet/data/train_motorcycle_helmet/image_motorcycle_helmet/leejh/539_1.jpg: 640x544 1 helmet, 11.3ms\n",
            "image 84/174 /content/drive/MyDrive/YOLOv4/darknet/data/train_motorcycle_helmet/image_motorcycle_helmet/leejh/53_0.jpg: 640x480 3 helmets, 9.1ms\n",
            "image 85/174 /content/drive/MyDrive/YOLOv4/darknet/data/train_motorcycle_helmet/image_motorcycle_helmet/leejh/53_1.jpg: 640x384 4 helmets, 10.7ms\n",
            "image 86/174 /content/drive/MyDrive/YOLOv4/darknet/data/train_motorcycle_helmet/image_motorcycle_helmet/leejh/546_0.jpg: 640x608 1 helmet, 10.4ms\n",
            "image 87/174 /content/drive/MyDrive/YOLOv4/darknet/data/train_motorcycle_helmet/image_motorcycle_helmet/leejh/547_0.jpg: 640x512 1 helmet, 8.2ms\n",
            "image 88/174 /content/drive/MyDrive/YOLOv4/darknet/data/train_motorcycle_helmet/image_motorcycle_helmet/leejh/548_0.jpg: 640x544 1 helmet, 10.2ms\n",
            "image 89/174 /content/drive/MyDrive/YOLOv4/darknet/data/train_motorcycle_helmet/image_motorcycle_helmet/leejh/549_0.jpg: 640x512 2 helmets, 8.3ms\n",
            "image 90/174 /content/drive/MyDrive/YOLOv4/darknet/data/train_motorcycle_helmet/image_motorcycle_helmet/leejh/549_1.jpg: 640x416 1 helmet, 8.6ms\n",
            "image 91/174 /content/drive/MyDrive/YOLOv4/darknet/data/train_motorcycle_helmet/image_motorcycle_helmet/leejh/551_1.jpg: 640x544 2 helmets, 10.2ms\n",
            "image 92/174 /content/drive/MyDrive/YOLOv4/darknet/data/train_motorcycle_helmet/image_motorcycle_helmet/leejh/553_0.jpg: 640x480 1 helmet, 8.2ms\n",
            "image 93/174 /content/drive/MyDrive/YOLOv4/darknet/data/train_motorcycle_helmet/image_motorcycle_helmet/leejh/553_2.jpg: 640x608 1 helmet, 10.5ms\n",
            "image 94/174 /content/drive/MyDrive/YOLOv4/darknet/data/train_motorcycle_helmet/image_motorcycle_helmet/leejh/554_0.jpg: 640x576 2 helmets, 11.6ms\n",
            "image 95/174 /content/drive/MyDrive/YOLOv4/darknet/data/train_motorcycle_helmet/image_motorcycle_helmet/leejh/554_1.jpg: 640x448 2 helmets, 7.9ms\n",
            "image 96/174 /content/drive/MyDrive/YOLOv4/darknet/data/train_motorcycle_helmet/image_motorcycle_helmet/leejh/555_0.jpg: 640x480 1 helmet, 8.1ms\n",
            "image 97/174 /content/drive/MyDrive/YOLOv4/darknet/data/train_motorcycle_helmet/image_motorcycle_helmet/leejh/558_0.jpg: 640x608 1 helmet, 10.4ms\n",
            "image 98/174 /content/drive/MyDrive/YOLOv4/darknet/data/train_motorcycle_helmet/image_motorcycle_helmet/leejh/559_0.jpg: 640x448 5 helmets, 7.9ms\n",
            "image 99/174 /content/drive/MyDrive/YOLOv4/darknet/data/train_motorcycle_helmet/image_motorcycle_helmet/leejh/560_0.jpg: 640x480 1 helmet, 8.2ms\n",
            "image 100/174 /content/drive/MyDrive/YOLOv4/darknet/data/train_motorcycle_helmet/image_motorcycle_helmet/leejh/561_0.jpg: 640x448 1 helmet, 8.0ms\n",
            "image 101/174 /content/drive/MyDrive/YOLOv4/darknet/data/train_motorcycle_helmet/image_motorcycle_helmet/leejh/562_0.jpg: 640x480 1 helmet, 1 cap, 8.5ms\n",
            "image 102/174 /content/drive/MyDrive/YOLOv4/darknet/data/train_motorcycle_helmet/image_motorcycle_helmet/leejh/563_0.jpg: 640x448 1 helmet, 7.7ms\n",
            "image 103/174 /content/drive/MyDrive/YOLOv4/darknet/data/train_motorcycle_helmet/image_motorcycle_helmet/leejh/566_0.jpg: 640x480 1 helmet, 7.6ms\n",
            "image 104/174 /content/drive/MyDrive/YOLOv4/darknet/data/train_motorcycle_helmet/image_motorcycle_helmet/leejh/571_2.jpg: 640x480 4 helmets, 7.6ms\n",
            "image 105/174 /content/drive/MyDrive/YOLOv4/darknet/data/train_motorcycle_helmet/image_motorcycle_helmet/leejh/572_1.jpg: 640x512 1 helmet, 7.8ms\n",
            "image 106/174 /content/drive/MyDrive/YOLOv4/darknet/data/train_motorcycle_helmet/image_motorcycle_helmet/leejh/574_2.jpg: 512x640 1 helmet, 11.2ms\n",
            "image 107/174 /content/drive/MyDrive/YOLOv4/darknet/data/train_motorcycle_helmet/image_motorcycle_helmet/leejh/584_0.jpg: 640x576 2 helmets, 9.6ms\n",
            "image 108/174 /content/drive/MyDrive/YOLOv4/darknet/data/train_motorcycle_helmet/image_motorcycle_helmet/leejh/584_3.jpg: 608x640 3 helmets, 9.8ms\n",
            "image 109/174 /content/drive/MyDrive/YOLOv4/darknet/data/train_motorcycle_helmet/image_motorcycle_helmet/leejh/586_1.jpg: 640x640 1 helmet, 9.9ms\n",
            "image 110/174 /content/drive/MyDrive/YOLOv4/darknet/data/train_motorcycle_helmet/image_motorcycle_helmet/leejh/586_2.jpg: 640x576 1 helmet, 9.6ms\n",
            "image 111/174 /content/drive/MyDrive/YOLOv4/darknet/data/train_motorcycle_helmet/image_motorcycle_helmet/leejh/586_4.jpg: 480x640 2 helmets, 7.9ms\n",
            "image 112/174 /content/drive/MyDrive/YOLOv4/darknet/data/train_motorcycle_helmet/image_motorcycle_helmet/leejh/587_2.jpg: 640x512 1 cap, 7.8ms\n",
            "image 113/174 /content/drive/MyDrive/YOLOv4/darknet/data/train_motorcycle_helmet/image_motorcycle_helmet/leejh/587_3.jpg: 640x640 1 helmet, 9.9ms\n",
            "image 114/174 /content/drive/MyDrive/YOLOv4/darknet/data/train_motorcycle_helmet/image_motorcycle_helmet/leejh/591_2.jpg: 640x640 1 helmet, 9.8ms\n",
            "image 115/174 /content/drive/MyDrive/YOLOv4/darknet/data/train_motorcycle_helmet/image_motorcycle_helmet/leejh/594_2.jpg: 608x640 3 helmets, 9.7ms\n",
            "image 116/174 /content/drive/MyDrive/YOLOv4/darknet/data/train_motorcycle_helmet/image_motorcycle_helmet/leejh/595_1.jpg: 608x640 2 helmets, 11.0ms\n",
            "image 117/174 /content/drive/MyDrive/YOLOv4/darknet/data/train_motorcycle_helmet/image_motorcycle_helmet/leejh/599_0.jpg: 576x640 1 helmet, 9.5ms\n",
            "image 118/174 /content/drive/MyDrive/YOLOv4/darknet/data/train_motorcycle_helmet/image_motorcycle_helmet/leejh/602_2.jpg: 512x640 1 helmet, 10.5ms\n",
            "image 119/174 /content/drive/MyDrive/YOLOv4/darknet/data/train_motorcycle_helmet/image_motorcycle_helmet/leejh/603_1.jpg: 512x640 1 helmet, 7.3ms\n",
            "image 120/174 /content/drive/MyDrive/YOLOv4/darknet/data/train_motorcycle_helmet/image_motorcycle_helmet/leejh/604_1.jpg: 608x640 2 helmets, 8.6ms\n",
            "image 121/174 /content/drive/MyDrive/YOLOv4/darknet/data/train_motorcycle_helmet/image_motorcycle_helmet/leejh/609_1.jpg: 608x640 1 helmet, 8.5ms\n",
            "image 122/174 /content/drive/MyDrive/YOLOv4/darknet/data/train_motorcycle_helmet/image_motorcycle_helmet/leejh/609_2.jpg: 480x640 1 helmet, 1 hood, 7.7ms\n",
            "image 123/174 /content/drive/MyDrive/YOLOv4/darknet/data/train_motorcycle_helmet/image_motorcycle_helmet/leejh/610_1.jpg: 608x640 1 helmet, 8.6ms\n",
            "image 124/174 /content/drive/MyDrive/YOLOv4/darknet/data/train_motorcycle_helmet/image_motorcycle_helmet/leejh/623_1.jpg: 640x544 1 helmet, 8.4ms\n",
            "image 125/174 /content/drive/MyDrive/YOLOv4/darknet/data/train_motorcycle_helmet/image_motorcycle_helmet/leejh/624_0.jpg: 640x544 2 helmets, 9.9ms\n",
            "image 126/174 /content/drive/MyDrive/YOLOv4/darknet/data/train_motorcycle_helmet/image_motorcycle_helmet/leejh/625_1.jpg: 640x480 2 helmets, 8.6ms\n",
            "image 127/174 /content/drive/MyDrive/YOLOv4/darknet/data/train_motorcycle_helmet/image_motorcycle_helmet/leejh/626_0.jpg: 640x448 1 helmet, 8.1ms\n",
            "image 128/174 /content/drive/MyDrive/YOLOv4/darknet/data/train_motorcycle_helmet/image_motorcycle_helmet/leejh/627_0.jpg: 640x480 1 head, 1 cap, 8.7ms\n",
            "image 129/174 /content/drive/MyDrive/YOLOv4/darknet/data/train_motorcycle_helmet/image_motorcycle_helmet/leejh/627_1.jpg: 640x448 1 helmet, 7.7ms\n",
            "image 130/174 /content/drive/MyDrive/YOLOv4/darknet/data/train_motorcycle_helmet/image_motorcycle_helmet/leejh/629_3.jpg: 640x544 2 helmets, 9.4ms\n",
            "image 131/174 /content/drive/MyDrive/YOLOv4/darknet/data/train_motorcycle_helmet/image_motorcycle_helmet/leejh/630_2.jpg: 640x448 2 helmets, 7.5ms\n",
            "image 132/174 /content/drive/MyDrive/YOLOv4/darknet/data/train_motorcycle_helmet/image_motorcycle_helmet/leejh/632_0.jpg: 640x480 2 helmets, 7.5ms\n",
            "image 133/174 /content/drive/MyDrive/YOLOv4/darknet/data/train_motorcycle_helmet/image_motorcycle_helmet/leejh/634_1.jpg: 640x640 2 helmets, 8.7ms\n",
            "image 134/174 /content/drive/MyDrive/YOLOv4/darknet/data/train_motorcycle_helmet/image_motorcycle_helmet/leejh/634_2.jpg: 640x640 1 helmet, 8.7ms\n",
            "image 135/174 /content/drive/MyDrive/YOLOv4/darknet/data/train_motorcycle_helmet/image_motorcycle_helmet/leejh/644_0.jpg: 640x512 3 helmets, 7.6ms\n",
            "image 136/174 /content/drive/MyDrive/YOLOv4/darknet/data/train_motorcycle_helmet/image_motorcycle_helmet/leejh/645_3.jpg: 480x640 1 helmet, 1 head, 7.5ms\n",
            "image 137/174 /content/drive/MyDrive/YOLOv4/darknet/data/train_motorcycle_helmet/image_motorcycle_helmet/leejh/646_0.jpg: 640x608 2 helmets, 8.6ms\n",
            "image 138/174 /content/drive/MyDrive/YOLOv4/darknet/data/train_motorcycle_helmet/image_motorcycle_helmet/leejh/649_0.jpg: 640x416 1 helmet, 7.6ms\n",
            "image 139/174 /content/drive/MyDrive/YOLOv4/darknet/data/train_motorcycle_helmet/image_motorcycle_helmet/leejh/652_2.jpg: 640x608 2 helmets, 8.6ms\n",
            "image 140/174 /content/drive/MyDrive/YOLOv4/darknet/data/train_motorcycle_helmet/image_motorcycle_helmet/leejh/653_0.jpg: 640x512 2 helmets, 8.2ms\n",
            "image 141/174 /content/drive/MyDrive/YOLOv4/darknet/data/train_motorcycle_helmet/image_motorcycle_helmet/leejh/66_1.jpg: 640x448 2 helmets, 7.8ms\n",
            "image 142/174 /content/drive/MyDrive/YOLOv4/darknet/data/train_motorcycle_helmet/image_motorcycle_helmet/leejh/675_0.jpg: 640x448 2 helmets, 7.5ms\n",
            "image 143/174 /content/drive/MyDrive/YOLOv4/darknet/data/train_motorcycle_helmet/image_motorcycle_helmet/leejh/67_0.jpg: 640x480 2 helmets, 7.8ms\n",
            "image 144/174 /content/drive/MyDrive/YOLOv4/darknet/data/train_motorcycle_helmet/image_motorcycle_helmet/leejh/681_0.jpg: 640x512 1 helmet, 7.9ms\n",
            "image 145/174 /content/drive/MyDrive/YOLOv4/darknet/data/train_motorcycle_helmet/image_motorcycle_helmet/leejh/685_1.jpg: 640x384 3 helmets, 7.9ms\n",
            "image 146/174 /content/drive/MyDrive/YOLOv4/darknet/data/train_motorcycle_helmet/image_motorcycle_helmet/leejh/685_2.jpg: 640x512 1 helmet, 7.8ms\n",
            "image 147/174 /content/drive/MyDrive/YOLOv4/darknet/data/train_motorcycle_helmet/image_motorcycle_helmet/leejh/687_1.jpg: 640x416 4 helmets, 7.8ms\n",
            "image 148/174 /content/drive/MyDrive/YOLOv4/darknet/data/train_motorcycle_helmet/image_motorcycle_helmet/leejh/688_0.jpg: 640x448 3 helmets, 7.8ms\n",
            "image 149/174 /content/drive/MyDrive/YOLOv4/darknet/data/train_motorcycle_helmet/image_motorcycle_helmet/leejh/689_1.jpg: 608x640 3 helmets, 8.6ms\n",
            "image 150/174 /content/drive/MyDrive/YOLOv4/darknet/data/train_motorcycle_helmet/image_motorcycle_helmet/leejh/68_0.jpg: 640x608 1 helmet, 8.6ms\n",
            "image 151/174 /content/drive/MyDrive/YOLOv4/darknet/data/train_motorcycle_helmet/image_motorcycle_helmet/leejh/68_1.jpg: 640x416 4 helmets, 7.9ms\n",
            "image 152/174 /content/drive/MyDrive/YOLOv4/darknet/data/train_motorcycle_helmet/image_motorcycle_helmet/leejh/690_0.jpg: 640x416 4 helmets, 7.8ms\n",
            "image 153/174 /content/drive/MyDrive/YOLOv4/darknet/data/train_motorcycle_helmet/image_motorcycle_helmet/leejh/698_0.jpg: 640x544 1 helmet, 8.4ms\n",
            "image 154/174 /content/drive/MyDrive/YOLOv4/darknet/data/train_motorcycle_helmet/image_motorcycle_helmet/leejh/69_0.jpg: 640x416 3 helmets, 8.4ms\n",
            "image 155/174 /content/drive/MyDrive/YOLOv4/darknet/data/train_motorcycle_helmet/image_motorcycle_helmet/leejh/702_1.jpg: 640x448 3 helmets, 7.8ms\n",
            "image 156/174 /content/drive/MyDrive/YOLOv4/darknet/data/train_motorcycle_helmet/image_motorcycle_helmet/leejh/703_0.jpg: 640x416 1 helmet, 7.8ms\n",
            "image 157/174 /content/drive/MyDrive/YOLOv4/darknet/data/train_motorcycle_helmet/image_motorcycle_helmet/leejh/703_3.jpg: 640x384 2 helmets, 7.9ms\n",
            "image 158/174 /content/drive/MyDrive/YOLOv4/darknet/data/train_motorcycle_helmet/image_motorcycle_helmet/leejh/70_0.jpg: 640x384 2 helmets, 7.6ms\n",
            "image 159/174 /content/drive/MyDrive/YOLOv4/darknet/data/train_motorcycle_helmet/image_motorcycle_helmet/leejh/712_1.jpg: 640x384 1 helmet, 7.4ms\n",
            "image 160/174 /content/drive/MyDrive/YOLOv4/darknet/data/train_motorcycle_helmet/image_motorcycle_helmet/leejh/71_0.jpg: 640x416 1 helmet, 10.9ms\n",
            "image 161/174 /content/drive/MyDrive/YOLOv4/darknet/data/train_motorcycle_helmet/image_motorcycle_helmet/leejh/720_3.jpg: 640x576 1 helmet, 1 cap, 8.5ms\n",
            "image 162/174 /content/drive/MyDrive/YOLOv4/darknet/data/train_motorcycle_helmet/image_motorcycle_helmet/leejh/742_3.jpg: 640x416 1 helmet, 7.8ms\n",
            "image 163/174 /content/drive/MyDrive/YOLOv4/darknet/data/train_motorcycle_helmet/image_motorcycle_helmet/leejh/746_2.jpg: 640x416 1 helmet, 7.5ms\n",
            "image 164/174 /content/drive/MyDrive/YOLOv4/darknet/data/train_motorcycle_helmet/image_motorcycle_helmet/leejh/754_1.jpg: 640x480 1 helmet, 7.9ms\n",
            "image 165/174 /content/drive/MyDrive/YOLOv4/darknet/data/train_motorcycle_helmet/image_motorcycle_helmet/leejh/75_0.jpg: 640x384 4 helmets, 8.0ms\n",
            "image 166/174 /content/drive/MyDrive/YOLOv4/darknet/data/train_motorcycle_helmet/image_motorcycle_helmet/leejh/776_0.jpg: 640x384 4 helmets, 7.7ms\n",
            "image 167/174 /content/drive/MyDrive/YOLOv4/darknet/data/train_motorcycle_helmet/image_motorcycle_helmet/leejh/777_0.jpg: 640x384 5 helmets, 7.9ms\n",
            "image 168/174 /content/drive/MyDrive/YOLOv4/darknet/data/train_motorcycle_helmet/image_motorcycle_helmet/leejh/79_3.jpg: 640x480 2 helmets, 9.9ms\n",
            "image 169/174 /content/drive/MyDrive/YOLOv4/darknet/data/train_motorcycle_helmet/image_motorcycle_helmet/leejh/82_0.jpg: 640x480 2 helmets, 7.4ms\n",
            "image 170/174 /content/drive/MyDrive/YOLOv4/darknet/data/train_motorcycle_helmet/image_motorcycle_helmet/leejh/83_0.jpg: 640x416 2 helmets, 8.3ms\n",
            "image 171/174 /content/drive/MyDrive/YOLOv4/darknet/data/train_motorcycle_helmet/image_motorcycle_helmet/leejh/87_0.jpg: 640x480 2 helmets, 7.8ms\n",
            "image 172/174 /content/drive/MyDrive/YOLOv4/darknet/data/train_motorcycle_helmet/image_motorcycle_helmet/leejh/88_0.jpg: 640x544 1 helmet, 11.9ms\n",
            "image 173/174 /content/drive/MyDrive/YOLOv4/darknet/data/train_motorcycle_helmet/image_motorcycle_helmet/leejh/88_1.jpg: 640x384 1 helmet, 9.6ms\n",
            "image 174/174 /content/drive/MyDrive/YOLOv4/darknet/data/train_motorcycle_helmet/image_motorcycle_helmet/leejh/92_0.jpg: 640x640 1 helmet, 8.7ms\n",
            "Speed: 0.5ms pre-process, 9.6ms inference, 0.9ms NMS per image at shape (1, 3, 640, 640)\n",
            "Results saved to \u001b[1mruns/detect/exp2\u001b[0m\n"
          ]
        }
      ]
    },
    {
      "cell_type": "code",
      "source": [],
      "metadata": {
        "id": "Bu-qCJeIa6fc"
      },
      "execution_count": null,
      "outputs": []
    }
  ]
}